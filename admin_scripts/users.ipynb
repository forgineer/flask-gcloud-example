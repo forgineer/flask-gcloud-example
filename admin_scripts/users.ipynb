{
 "cells": [
  {
   "cell_type": "markdown",
   "metadata": {},
   "source": [
    "# Users"
   ]
  },
  {
   "cell_type": "code",
   "execution_count": null,
   "metadata": {},
   "outputs": [],
   "source": [
    "import firebase_admin\n",
    "import pandas as pd\n",
    "\n",
    "from firebase_admin import auth, credentials\n",
    "from google.cloud import firestore\n",
    "\n",
    "db = firestore.Client()"
   ]
  },
  {
   "cell_type": "markdown",
   "metadata": {},
   "source": [
    "### Query Users (Firestore)"
   ]
  },
  {
   "cell_type": "code",
   "execution_count": null,
   "metadata": {},
   "outputs": [],
   "source": [
    "# Get all users in Firestore\n",
    "user_records = db.collection('users').get()\n",
    "users = []\n",
    "\n",
    "# Iterate through users to print them\n",
    "for record in user_records:\n",
    "    #print(record.to_dict())\n",
    "    users.append(record.to_dict())\n",
    "\n",
    "users_df = pd.DataFrame(users)\n",
    "\n",
    "users_df"
   ]
  },
  {
   "cell_type": "markdown",
   "metadata": {},
   "source": [
    "### Query User Auth Records (Firebase)"
   ]
  },
  {
   "cell_type": "code",
   "execution_count": null,
   "metadata": {},
   "outputs": [],
   "source": [
    "# Initialize the Firebase admin\n",
    "# ONLY NEEDS TO BE EXECUTED ONCE!\n",
    "cred = credentials.ApplicationDefault()\n",
    "firebase_admin.initialize_app(cred)"
   ]
  },
  {
   "cell_type": "code",
   "execution_count": null,
   "metadata": {},
   "outputs": [],
   "source": [
    "# Query User Auth Records (with auth)\n",
    "page = auth.list_users()\n",
    "users = []\n",
    "\n",
    "while page:\n",
    "    for user in page.users:\n",
    "        print('User: ' + user.uid)\n",
    "    # Get next batch of users.\n",
    "    page = page.get_next_page()\n",
    "\n",
    "# Iterate through all users. This will still retrieve users in batches,\n",
    "# buffering no more than 1000 users in memory at a time.\n",
    "for user in auth.list_users().iterate_all():\n",
    "    record = {}\n",
    "    record['uid'] = user.uid\n",
    "    record['email'] = user.email\n",
    "    record['phone_number'] = user.phone_number\n",
    "    record['email_verified'] = user.email_verified\n",
    "    #record['password'] = user.password\n",
    "    record['display_name'] = user.display_name\n",
    "    record['photo_url'] = user.photo_url\n",
    "    record['disabled'] = user.disabled\n",
    "    users.append(record)\n",
    "\n",
    "users_df = pd.DataFrame(users)\n",
    "\n",
    "users_df"
   ]
  }
 ],
 "metadata": {
  "kernelspec": {
   "display_name": ".venv",
   "language": "python",
   "name": "python3"
  },
  "language_info": {
   "codemirror_mode": {
    "name": "ipython",
    "version": 3
   },
   "file_extension": ".py",
   "mimetype": "text/x-python",
   "name": "python",
   "nbconvert_exporter": "python",
   "pygments_lexer": "ipython3",
   "version": "3.11.9"
  }
 },
 "nbformat": 4,
 "nbformat_minor": 2
}
